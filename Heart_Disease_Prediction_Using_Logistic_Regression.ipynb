{
  "nbformat": 4,
  "nbformat_minor": 0,
  "metadata": {
    "colab": {
      "provenance": [],
      "include_colab_link": true
    },
    "kernelspec": {
      "name": "python3",
      "display_name": "Python 3"
    },
    "language_info": {
      "name": "python"
    }
  },
  "cells": [
    {
      "cell_type": "markdown",
      "metadata": {
        "id": "view-in-github",
        "colab_type": "text"
      },
      "source": [
        "<a href=\"https://colab.research.google.com/github/ingridmidory/Programa-Pr-cticas-Escolares/blob/main/Heart_Disease_Prediction_Using_Logistic_Regression.ipynb\" target=\"_parent\"><img src=\"https://colab.research.google.com/assets/colab-badge.svg\" alt=\"Open In Colab\"/></a>"
      ]
    },
    {
      "cell_type": "code",
      "execution_count": null,
      "metadata": {
        "id": "AUELBVnLfeEl"
      },
      "outputs": [],
      "source": [
        "import pandas as pd #manipulación y el análisis de datos. Ofrece estructuras de datos y operaciones para manipular tablas numéricas y series temporales, es como el Excel de Python.\n",
        "import pylab as pl\n",
        "import numpy as np #soporte para crear vectores y matrices grandes multidimensionales, junto con una gran colección de funciones matemáticas de alto nivel\n",
        "import scipy.optimize as opt # para optimización, álgebra lineal, integración, interpolación, funciones especiales, FFT, procesamiento de señales y de imagen, resolución de ODEs, etc\n",
        "import statsmodels.api as sm #biblioteca de análisis y modelado de datos estadísticos\n",
        "from sklearn import preprocessing #Incluye varios algoritmos de clasificación, regresión y análisis de grupos entre los cuales están máquinas de vectores de soporte, bosques aleatorios, Gradient boosting, K-means y DBSCAN\n",
        "'exec(% matplotlib inline)'\n",
        "import matplotlib.pyplot as plt #es una biblioteca para la generación de gráficos en dos dimensiones, a partir de datos contenidos en listas o arrays\n",
        "import matplotlib.mlab as mlab\n",
        "import seaborn as sns # biblioteca para crear gráficos estadísticos"
      ]
    },
    {
      "cell_type": "markdown",
      "source": [
        "# Cargar los datos a nuestro notebook."
      ],
      "metadata": {
        "id": "gDWdwwX7i8mH"
      }
    },
    {
      "cell_type": "markdown",
      "source": [
        "El conjunto de datos proviene de un estudio cardiovascular en curso sobre residentes de la ciudad de Framingham, Massachusetts. El objetivo de la clasificación es predecir si el paciente tiene riesgo a 10 años de sufrir enfermedad coronaria (CHD) en el futuro. El conjunto de datos proporciona la información de los pacientes. Incluye más de 4.000 registros y 15 atributos."
      ],
      "metadata": {
        "id": "0WAXDF1KjoKg"
      }
    },
    {
      "cell_type": "code",
      "source": [
        "disease_df = pd.read_csv(\"/content/framingham.csv\")\n",
        "disease_df.drop(['education'], inplace = True, axis = 1)\n",
        "disease_df.rename(columns ={'male':'Sex_male'}, inplace = True)\n",
        "disease_df.info()\n"
      ],
      "metadata": {
        "colab": {
          "base_uri": "https://localhost:8080/"
        },
        "id": "IMjtX9gKgFNJ",
        "outputId": "95aba74a-6a71-45bf-b12b-53c582adeb47"
      },
      "execution_count": null,
      "outputs": [
        {
          "output_type": "stream",
          "name": "stdout",
          "text": [
            "<class 'pandas.core.frame.DataFrame'>\n",
            "RangeIndex: 4240 entries, 0 to 4239\n",
            "Data columns (total 15 columns):\n",
            " #   Column           Non-Null Count  Dtype  \n",
            "---  ------           --------------  -----  \n",
            " 0   Sex_male         4240 non-null   int64  \n",
            " 1   age              4240 non-null   int64  \n",
            " 2   currentSmoker    4240 non-null   int64  \n",
            " 3   cigsPerDay       4211 non-null   float64\n",
            " 4   BPMeds           4187 non-null   float64\n",
            " 5   prevalentStroke  4240 non-null   int64  \n",
            " 6   prevalentHyp     4240 non-null   int64  \n",
            " 7   diabetes         4240 non-null   int64  \n",
            " 8   totChol          4190 non-null   float64\n",
            " 9   sysBP            4240 non-null   float64\n",
            " 10  diaBP            4240 non-null   float64\n",
            " 11  BMI              4221 non-null   float64\n",
            " 12  heartRate        4239 non-null   float64\n",
            " 13  glucose          3852 non-null   float64\n",
            " 14  TenYearCHD       4240 non-null   int64  \n",
            "dtypes: float64(8), int64(7)\n",
            "memory usage: 497.0 KB\n"
          ]
        }
      ]
    },
    {
      "cell_type": "markdown",
      "source": [
        "Remover los vacios"
      ],
      "metadata": {
        "id": "cNhWeSW6jNly"
      }
    },
    {
      "cell_type": "code",
      "source": [
        "# removing NaN / NULL values\n",
        "disease_df.dropna(axis = 0, inplace = True)\n",
        "print(disease_df.head(), disease_df.shape)\n",
        "print(disease_df.TenYearCHD.value_counts())"
      ],
      "metadata": {
        "colab": {
          "base_uri": "https://localhost:8080/"
        },
        "id": "deGq3FbjjMHN",
        "outputId": "660cf000-4299-481d-e351-2933a4d3dcce"
      },
      "execution_count": null,
      "outputs": [
        {
          "output_type": "stream",
          "name": "stdout",
          "text": [
            "   Sex_male  age  currentSmoker  cigsPerDay  BPMeds  prevalentStroke  \\\n",
            "0         1   39              0         0.0     0.0                0   \n",
            "1         0   46              0         0.0     0.0                0   \n",
            "2         1   48              1        20.0     0.0                0   \n",
            "3         0   61              1        30.0     0.0                0   \n",
            "4         0   46              1        23.0     0.0                0   \n",
            "\n",
            "   prevalentHyp  diabetes  totChol  sysBP  diaBP    BMI  heartRate  glucose  \\\n",
            "0             0         0    195.0  106.0   70.0  26.97       80.0     77.0   \n",
            "1             0         0    250.0  121.0   81.0  28.73       95.0     76.0   \n",
            "2             0         0    245.0  127.5   80.0  25.34       75.0     70.0   \n",
            "3             1         0    225.0  150.0   95.0  28.58       65.0    103.0   \n",
            "4             0         0    285.0  130.0   84.0  23.10       85.0     85.0   \n",
            "\n",
            "   TenYearCHD  \n",
            "0           0  \n",
            "1           0  \n",
            "2           0  \n",
            "3           1  \n",
            "4           0   (3751, 15)\n",
            "TenYearCHD\n",
            "0    3179\n",
            "1     572\n",
            "Name: count, dtype: int64\n"
          ]
        }
      ]
    },
    {
      "cell_type": "markdown",
      "source": [
        "Hasta aquí, podemos explorar los datos e investigar cuales son los atributos que se presentan, por ejemplo edad, si fuma y cuántos cigarrillos fua al día, etc.\n"
      ],
      "metadata": {
        "id": "GmgW2usbzV8H"
      }
    },
    {
      "cell_type": "markdown",
      "source": [
        "# ML Tools"
      ],
      "metadata": {
        "id": "-9iNnAO1BvKc"
      }
    },
    {
      "cell_type": "markdown",
      "source": [
        "Dividir el conjunto de datos en conjuntos de prueba y entrenamiento"
      ],
      "metadata": {
        "id": "9UR4qWqrkE8M"
      }
    },
    {
      "cell_type": "code",
      "source": [
        "X = np.asarray(disease_df[['age', 'Sex_male', 'cigsPerDay',\n",
        "                           'totChol', 'sysBP', 'glucose']])\n",
        "y = np.asarray(disease_df['TenYearCHD'])\n",
        "\n",
        "# normalization of the dataset\n",
        "X = preprocessing.StandardScaler().fit(X).transform(X)\n",
        "\n",
        "# Train-and-Test -Split\n",
        "from sklearn.model_selection import train_test_split\n",
        "X_train, X_test, y_train, y_test = train_test_split(\n",
        "        X, y, test_size = 0.3, random_state = 4)\n",
        "\n",
        "print ('Train set:', X_train.shape,  y_train.shape)\n",
        "print ('Test set:', X_test.shape,  y_test.shape)\n"
      ],
      "metadata": {
        "colab": {
          "base_uri": "https://localhost:8080/"
        },
        "id": "vBApHiLgjSwu",
        "outputId": "f36ae75f-78c1-4318-d409-0ff6322b03f7"
      },
      "execution_count": null,
      "outputs": [
        {
          "output_type": "stream",
          "name": "stdout",
          "text": [
            "Train set: (2625, 6) (2625,)\n",
            "Test set: (1126, 6) (1126,)\n"
          ]
        }
      ]
    },
    {
      "cell_type": "markdown",
      "source": [
        "# Análisis de datos exploratorios del conjunto de datos de enfermedades cardíacas"
      ],
      "metadata": {
        "id": "JD4Sk6IY0pdj"
      }
    },
    {
      "cell_type": "markdown",
      "source": [
        "Registro de enfermedad coronaria de diez años de todos los pacientes disponibles en el conjunto de datos:\n"
      ],
      "metadata": {
        "id": "yFA0zM8F05iH"
      }
    },
    {
      "cell_type": "code",
      "source": [
        "# counting no. of patients affected with CHD\n",
        "plt.figure(figsize=(7, 5))\n",
        "sns.countplot(x='TenYearCHD', data=disease_df,\n",
        "             palette=\"BuGn_r\")\n",
        "plt.show()\n",
        "\n",
        "# This code is modified by Susobhan Akhuli\n"
      ],
      "metadata": {
        "colab": {
          "base_uri": "https://localhost:8080/",
          "height": 572
        },
        "id": "Uzd22QLX0t_F",
        "outputId": "46e67008-68f3-426a-adc7-d0694c7abce5"
      },
      "execution_count": null,
      "outputs": [
        {
          "output_type": "stream",
          "name": "stderr",
          "text": [
            "<ipython-input-7-bc59419c8daf>:3: FutureWarning: \n",
            "\n",
            "Passing `palette` without assigning `hue` is deprecated and will be removed in v0.14.0. Assign the `x` variable to `hue` and set `legend=False` for the same effect.\n",
            "\n",
            "  sns.countplot(x='TenYearCHD', data=disease_df,\n"
          ]
        },
        {
          "output_type": "display_data",
          "data": {
            "text/plain": [
              "<Figure size 700x500 with 1 Axes>"
            ],
            "image/png": "[encoded data removed]"
          },
          "metadata": {}
        }
      ]
    },
    {
      "cell_type": "code",
      "source": [],
      "metadata": {
        "id": "aO0T9GL58W_H"
      },
      "execution_count": null,
      "outputs": []
    }
  ]
}